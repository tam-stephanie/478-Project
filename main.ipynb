{
 "cells": [
  {
   "cell_type": "code",
   "execution_count": 2,
   "metadata": {
    "ExecuteTime": {
     "end_time": "2018-04-19T21:40:04.065317Z",
     "start_time": "2018-04-19T21:40:04.062438Z"
    },
    "code_folding": []
   },
   "outputs": [],
   "source": [
    "# Constant variables definitions\n",
    "DIR_PATH = \"sample_texts/\"\n",
    "\n",
    "\n"
   ]
  },
  {
   "cell_type": "code",
   "execution_count": 3,
   "metadata": {
    "ExecuteTime": {
     "end_time": "2018-04-19T21:40:04.576932Z",
     "start_time": "2018-04-19T21:40:04.573846Z"
    }
   },
   "outputs": [],
   "source": [
    "import os"
   ]
  },
  {
   "cell_type": "code",
   "execution_count": 9,
   "metadata": {
    "ExecuteTime": {
     "end_time": "2018-04-19T21:45:30.183274Z",
     "start_time": "2018-04-19T21:45:29.732374Z"
    }
   },
   "outputs": [],
   "source": [
    "import matplotlib.pyplot as plt\n",
    "import matplotlib.image as mpimg\n",
    "import numpy as np\n",
    "\n",
    "import nltk\n"
   ]
  },
  {
   "cell_type": "code",
   "execution_count": 37,
   "metadata": {
    "ExecuteTime": {
     "end_time": "2018-04-19T22:43:00.690260Z",
     "start_time": "2018-04-19T22:43:00.686273Z"
    }
   },
   "outputs": [],
   "source": [
    "def process_file(fname):\n",
    "    file_path = DIR_PATH + fname\n",
    "    print(file_path)\n",
    "    \n",
    "    content = \"\"\n",
    "\n",
    "    with open(file_path, 'r') as f:\n",
    "\n",
    "        content = f.readlines()\n",
    "        \n",
    "    content = \"\".join(content)\n",
    "    return content\n"
   ]
  },
  {
   "cell_type": "code",
   "execution_count": 38,
   "metadata": {
    "ExecuteTime": {
     "end_time": "2018-04-19T22:43:01.164098Z",
     "start_time": "2018-04-19T22:43:01.157995Z"
    }
   },
   "outputs": [
    {
     "data": {
      "text/plain": [
       "['sample1.txt', 'sample2.txt', 'sample3.txt']"
      ]
     },
     "execution_count": 38,
     "metadata": {},
     "output_type": "execute_result"
    }
   ],
   "source": [
    "# Below are the following files that will be tested.\n",
    "\n",
    "files = os.listdir(DIR_PATH)\n",
    "files\n"
   ]
  },
  {
   "cell_type": "code",
   "execution_count": 42,
   "metadata": {
    "ExecuteTime": {
     "end_time": "2018-04-19T22:50:15.913481Z",
     "start_time": "2018-04-19T22:50:15.818061Z"
    }
   },
   "outputs": [
    {
     "name": "stdout",
     "output_type": "stream",
     "text": [
      "[nltk_data] Downloading package stopwords to /Users/jaime/nltk_data...\n",
      "[nltk_data]   Unzipping corpora/stopwords.zip.\n"
     ]
    },
    {
     "data": {
      "text/plain": [
       "True"
      ]
     },
     "execution_count": 42,
     "metadata": {},
     "output_type": "execute_result"
    }
   ],
   "source": [
    "# nltk.download('stopwords')\n",
    "# nltk.download('punky')"
   ]
  },
  {
   "cell_type": "code",
   "execution_count": 44,
   "metadata": {
    "ExecuteTime": {
     "end_time": "2018-04-19T23:07:43.053430Z",
     "start_time": "2018-04-19T23:07:43.049732Z"
    }
   },
   "outputs": [],
   "source": [
    "eng_stops = nltk.corpus.stopwords.words('english')\n",
    "symbolic_stops = ['.', ',', '!', '?', ';', ':', '[', ']']\n",
    "\n",
    "eng_stops += symbolic_stops"
   ]
  },
  {
   "cell_type": "code",
   "execution_count": 45,
   "metadata": {
    "ExecuteTime": {
     "end_time": "2018-04-19T23:13:31.879001Z",
     "start_time": "2018-04-19T23:13:31.876038Z"
    }
   },
   "outputs": [],
   "source": [
    "# symbolic_stopwords = ['.', ',', ]\n",
    "\n",
    "# sample_index = 0\n",
    "# file_chosen = files[sample_index]\n",
    "\n",
    "# words = process_file(file_chosen)\n",
    "\n",
    "# nltk.word_tokenize(words)\n",
    "\n",
    "\n",
    "# nltk.stem.snowball.SnowballStemmer(\"english\")"
   ]
  },
  {
   "cell_type": "code",
   "execution_count": null,
   "metadata": {},
   "outputs": [],
   "source": []
  },
  {
   "cell_type": "code",
   "execution_count": null,
   "metadata": {},
   "outputs": [],
   "source": []
  },
  {
   "cell_type": "code",
   "execution_count": null,
   "metadata": {},
   "outputs": [],
   "source": []
  }
 ],
 "metadata": {
  "kernelspec": {
   "display_name": "Python 3",
   "language": "python",
   "name": "python3"
  },
  "language_info": {
   "codemirror_mode": {
    "name": "ipython",
    "version": 3
   },
   "file_extension": ".py",
   "mimetype": "text/x-python",
   "name": "python",
   "nbconvert_exporter": "python",
   "pygments_lexer": "ipython3",
   "version": "3.6.5"
  }
 },
 "nbformat": 4,
 "nbformat_minor": 2
}
