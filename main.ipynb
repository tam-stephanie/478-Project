{
 "cells": [
  {
   "cell_type": "code",
   "execution_count": 46,
   "metadata": {
    "ExecuteTime": {
     "end_time": "2018-04-20T00:32:35.001425Z",
     "start_time": "2018-04-20T00:32:34.998590Z"
    },
    "code_folding": []
   },
   "outputs": [],
   "source": [
    "# Constant variables definitions\n",
    "DIR_PATH = \"sample_texts/\"\n"
   ]
  },
  {
   "cell_type": "code",
   "execution_count": 47,
   "metadata": {
    "ExecuteTime": {
     "end_time": "2018-04-20T00:32:35.603961Z",
     "start_time": "2018-04-20T00:32:35.599968Z"
    }
   },
   "outputs": [],
   "source": [
    "import os"
   ]
  },
  {
   "cell_type": "code",
   "execution_count": 48,
   "metadata": {
    "ExecuteTime": {
     "end_time": "2018-04-20T00:32:36.290289Z",
     "start_time": "2018-04-20T00:32:36.284989Z"
    }
   },
   "outputs": [],
   "source": [
    "import matplotlib.pyplot as plt\n",
    "import matplotlib.image as mpimg\n",
    "import numpy as np\n",
    "\n",
    "import nltk"
   ]
  },
  {
   "cell_type": "code",
   "execution_count": 49,
   "metadata": {
    "ExecuteTime": {
     "end_time": "2018-04-20T00:32:36.948290Z",
     "start_time": "2018-04-20T00:32:36.943901Z"
    }
   },
   "outputs": [],
   "source": [
    "# this is reads file\n",
    "def process_file(fname):\n",
    "    file_path = DIR_PATH + fname\n",
    "    print(file_path)\n",
    "    \n",
    "    content = \"\"\n",
    "\n",
    "    with open(file_path, 'r') as f:\n",
    "\n",
    "        content = f.readlines()\n",
    "        \n",
    "    content = \"\".join(content)\n",
    "    return content\n"
   ]
  },
  {
   "cell_type": "code",
   "execution_count": 50,
   "metadata": {
    "ExecuteTime": {
     "end_time": "2018-04-20T00:32:37.418719Z",
     "start_time": "2018-04-20T00:32:37.411524Z"
    }
   },
   "outputs": [
    {
     "data": {
      "text/plain": [
       "['sample1.txt', 'sample2.txt', 'sample3.txt']"
      ]
     },
     "execution_count": 50,
     "metadata": {},
     "output_type": "execute_result"
    }
   ],
   "source": [
    "# Below are the following files that will be tested.\n",
    "\n",
    "files = os.listdir(DIR_PATH) # see the files in the current directory\n",
    "files\n"
   ]
  },
  {
   "cell_type": "code",
   "execution_count": 51,
   "metadata": {
    "ExecuteTime": {
     "end_time": "2018-04-20T00:32:37.852052Z",
     "start_time": "2018-04-20T00:32:37.848750Z"
    }
   },
   "outputs": [],
   "source": [
    "# nltk.download('stopwords')\n",
    "# nltk.download('punky')"
   ]
  },
  {
   "cell_type": "code",
   "execution_count": 52,
   "metadata": {
    "ExecuteTime": {
     "end_time": "2018-04-20T00:32:38.559395Z",
     "start_time": "2018-04-20T00:32:38.553161Z"
    }
   },
   "outputs": [],
   "source": [
    "eng_stops = nltk.corpus.stopwords.words('english')\n",
    "symbolic_stops = ['.', ',', '!', '?', ';', ':', '[', ']']\n",
    "\n",
    "eng_stops += symbolic_stops\n",
    "\n",
    "# TODO: \n",
    "# Implement stop words reduction.\n"
   ]
  },
  {
   "cell_type": "code",
   "execution_count": 45,
   "metadata": {
    "ExecuteTime": {
     "end_time": "2018-04-19T23:13:31.879001Z",
     "start_time": "2018-04-19T23:13:31.876038Z"
    }
   },
   "outputs": [],
   "source": [
    "\n",
    "# sample_index = 0\n",
    "# file_chosen = files[sample_index]\n",
    "\n",
    "# words = process_file(file_chosen)\n",
    "\n",
    "# nltk.word_tokenize(words)\n",
    "\n",
    "\n",
    "# nltk.stem.snowball.SnowballStemmer(\"english\")\n",
    "\n",
    "\n"
   ]
  },
  {
   "cell_type": "code",
   "execution_count": 2,
   "metadata": {},
   "outputs": [],
   "source": [
    "#use VADER to run sentiment analysis\n",
    "# from vaderSentiment import SentimentIntensityAnalyzer\n",
    "from vaderSentiment.vaderSentiment import SentimentIntensityAnalyzer\n"
   ]
  },
  {
   "cell_type": "code",
   "execution_count": 4,
   "metadata": {},
   "outputs": [
    {
     "name": "stdout",
     "output_type": "stream",
     "text": [
      "VADER is smart, handsome, and funny.----------------------------- {'pos': 0.746, 'compound': 0.8316, 'neu': 0.254, 'neg': 0.0}\n",
      "VADER is smart, handsome, and funny!----------------------------- {'pos': 0.752, 'compound': 0.8439, 'neu': 0.248, 'neg': 0.0}\n",
      "VADER is very smart, handsome, and funny.------------------------ {'pos': 0.701, 'compound': 0.8545, 'neu': 0.299, 'neg': 0.0}\n",
      "VADER is VERY SMART, handsome, and FUNNY.------------------------ {'pos': 0.754, 'compound': 0.9227, 'neu': 0.246, 'neg': 0.0}\n",
      "VADER is VERY SMART, handsome, and FUNNY!!!---------------------- {'pos': 0.767, 'compound': 0.9342, 'neu': 0.233, 'neg': 0.0}\n",
      "VADER is VERY SMART, uber handsome, and FRIGGIN FUNNY!!!--------- {'pos': 0.706, 'compound': 0.9469, 'neu': 0.294, 'neg': 0.0}\n",
      "VADER is not smart, handsome, nor funny.------------------------- {'pos': 0.0, 'compound': -0.7424, 'neu': 0.354, 'neg': 0.646}\n",
      "The book was good.----------------------------------------------- {'pos': 0.492, 'compound': 0.4404, 'neu': 0.508, 'neg': 0.0}\n",
      "At least it isn't a horrible book.------------------------------- {'pos': 0.363, 'compound': 0.431, 'neu': 0.637, 'neg': 0.0}\n",
      "The book was only kind of good.---------------------------------- {'pos': 0.303, 'compound': 0.3832, 'neu': 0.697, 'neg': 0.0}\n",
      "The plot was good, but the characters are uncompelling and the dialog is not great. {'pos': 0.094, 'compound': -0.7042, 'neu': 0.579, 'neg': 0.327}\n",
      "Today SUX!------------------------------------------------------- {'pos': 0.0, 'compound': -0.5461, 'neu': 0.221, 'neg': 0.779}\n",
      "Today only kinda sux! But I'll get by, lol----------------------- {'pos': 0.317, 'compound': 0.5249, 'neu': 0.556, 'neg': 0.127}\n",
      "Make sure you :) or :D today!------------------------------------ {'pos': 0.706, 'compound': 0.8633, 'neu': 0.294, 'neg': 0.0}\n",
      "Catch utf-8 emoji such as such as 💘 and 💋 and 😁------------------ {'pos': 0.254, 'compound': 0.7003, 'neu': 0.746, 'neg': 0.0}\n",
      "Not bad at all--------------------------------------------------- {'pos': 0.487, 'compound': 0.431, 'neu': 0.513, 'neg': 0.0}\n"
     ]
    }
   ],
   "source": [
    "sentences = [\"VADER is smart, handsome, and funny.\",  # positive sentence example\n",
    "              \"VADER is smart, handsome, and funny!\",  # punctuation emphasis handled correctly (sentiment intensity adjusted)\n",
    "              \"VADER is very smart, handsome, and funny.\", # booster words handled correctly (sentiment intensity adjusted)\n",
    "              \"VADER is VERY SMART, handsome, and FUNNY.\",  # emphasis for ALLCAPS handled\n",
    "              \"VADER is VERY SMART, handsome, and FUNNY!!!\", # combination of signals - VADER appropriately adjusts intensity\n",
    "              \"VADER is VERY SMART, uber handsome, and FRIGGIN FUNNY!!!\", # booster words & punctuation make this close to ceiling for score\n",
    "              \"VADER is not smart, handsome, nor funny.\",  # negation sentence example\n",
    "              \"The book was good.\",  # positive sentence\n",
    "              \"At least it isn't a horrible book.\",  # negated negative sentence with contraction\n",
    "              \"The book was only kind of good.\", # qualified positive sentence is handled correctly (intensity adjusted)\n",
    "              \"The plot was good, but the characters are uncompelling and the dialog is not great.\", # mixed negation sentence\n",
    "              \"Today SUX!\",  # negative slang with capitalization emphasis\n",
    "              \"Today only kinda sux! But I'll get by, lol\", # mixed sentiment example with slang and constrastive conjunction \"but\"\n",
    "              \"Make sure you :) or :D today!\",  # emoticons handled\n",
    "              \"Catch utf-8 emoji such as such as 💘 and 💋 and 😁\",  # emojis handled\n",
    "              \"Not bad at all\"  # Capitalized negation\n",
    "            ]\n",
    "\n",
    "analyzer = SentimentIntensityAnalyzer()\n",
    "for sentence in sentences:\n",
    "    vs = analyzer.polarity_scores(sentence)\n",
    "    print(\"{:-<65} {}\".format(sentence, str(vs)))"
   ]
  },
  {
   "cell_type": "code",
   "execution_count": null,
   "metadata": {},
   "outputs": [],
   "source": []
  }
 ],
 "metadata": {
  "kernelspec": {
   "display_name": "Python 3",
   "language": "python",
   "name": "python3"
  },
  "language_info": {
   "codemirror_mode": {
    "name": "ipython",
    "version": 3
   },
   "file_extension": ".py",
   "mimetype": "text/x-python",
   "name": "python",
   "nbconvert_exporter": "python",
   "pygments_lexer": "ipython3",
   "version": "3.5.2"
  }
 },
 "nbformat": 4,
 "nbformat_minor": 2
}
