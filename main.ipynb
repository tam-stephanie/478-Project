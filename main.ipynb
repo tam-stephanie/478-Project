{
 "cells": [
  {
   "cell_type": "code",
   "execution_count": 11,
   "metadata": {
    "ExecuteTime": {
     "end_time": "2018-04-20T00:32:35.001425Z",
     "start_time": "2018-04-20T00:32:34.998590Z"
    },
    "code_folding": []
   },
   "outputs": [],
   "source": [
    "# Constant variables definitions\n",
    "DIR_PATH = \"sample_texts/\"\n"
   ]
  },
  {
   "cell_type": "code",
   "execution_count": 12,
   "metadata": {
    "ExecuteTime": {
     "end_time": "2018-04-20T00:32:35.603961Z",
     "start_time": "2018-04-20T00:32:35.599968Z"
    }
   },
   "outputs": [],
   "source": [
    "import os"
   ]
  },
  {
   "cell_type": "code",
   "execution_count": 13,
   "metadata": {
    "ExecuteTime": {
     "end_time": "2018-04-20T00:32:36.290289Z",
     "start_time": "2018-04-20T00:32:36.284989Z"
    }
   },
   "outputs": [],
   "source": [
    "import matplotlib.pyplot as plt\n",
    "import matplotlib.image as mpimg\n",
    "import numpy as np"
   ]
  },
  {
   "cell_type": "code",
   "execution_count": null,
   "metadata": {},
   "outputs": [],
   "source": [
    "import nltk\n",
    "import nltk.data\n",
    "from vaderSentiment.vaderSentiment import SentimentIntensityAnalyzer"
   ]
  },
  {
   "cell_type": "code",
   "execution_count": 1,
   "metadata": {},
   "outputs": [],
   "source": [
    "import re"
   ]
  },
  {
   "cell_type": "code",
   "execution_count": 4,
   "metadata": {},
   "outputs": [],
   "source": [
    "# split_into_sentences()\n",
    "# Parameters: string of text\n",
    "# Description: The function splits text into sentences while properly retaining proper punctuation\n",
    "# (Note: This function was taken from StackOverflow (https://stackoverflow.com/questions/4576077/python-split-text-on-sentences)\n",
    "\n",
    "# Handle cases where periods are used but don't note the end of a sentence\n",
    "caps = \"([A-Z])\"\n",
    "prefixes = \"(Mr|St|Mrs|Ms|Dr|Prof|Capt|Cpt|Lt|Mt)[.]\"\n",
    "suffixes = \"(Inc|Ltd|Jr|Sr|Co)\"\n",
    "starters = \"(Mr|Mrs|Ms|Dr|He\\s|She\\s|It\\s|They\\s|Their\\s|Our\\s|We\\s|But\\s|However\\s|That\\s|This\\s|Wherever)\"\n",
    "acronyms = \"([A-Z][.][A-Z][.](?:[A-Z][.])?)\"\n",
    "websites = \"[.](com|net|org|io|gov)\"\n",
    "digits = \"([0-9])\"\n",
    "\n",
    "def split_into_sentences(text):\n",
    "    text = \" \" + text + \"  \"\n",
    "    text = text.replace(\"\\n\",\" \")\n",
    "    text = re.sub(prefixes,\"\\\\1<prd>\",text)\n",
    "    text = re.sub(websites,\"<prd>\\\\1\",text)\n",
    "    if \"Ph.D\" in text: text = text.replace(\"Ph.D.\",\"Ph<prd>D<prd>\")\n",
    "    text = re.sub(\"\\s\" + caps + \"[.] \",\" \\\\1<prd> \",text)\n",
    "    text = re.sub(acronyms+\" \"+starters,\"\\\\1<stop> \\\\2\",text)\n",
    "    text = re.sub(caps + \"[.]\" + caps + \"[.]\" + caps + \"[.]\",\"\\\\1<prd>\\\\2<prd>\\\\3<prd>\",text)\n",
    "    text = re.sub(caps + \"[.]\" + caps + \"[.]\",\"\\\\1<prd>\\\\2<prd>\",text)\n",
    "    text = re.sub(digits + \"[.]\" + digits,\"\\\\1<prd>\\\\2\",text)\n",
    "    text = re.sub(\" \"+suffixes+\"[.] \"+starters,\" \\\\1<stop> \\\\2\",text)\n",
    "    text = re.sub(\" \"+suffixes+\"[.]\",\" \\\\1<prd>\",text)\n",
    "    text = re.sub(\" \" + caps + \"[.]\",\" \\\\1<prd>\",text)\n",
    "    if \"”\" in text: text = text.replace(\".”\",\"”.\")\n",
    "    if \"\\\"\" in text: text = text.replace(\".\\\"\",\"\\\".\")\n",
    "    if \"!\" in text: text = text.replace(\"!\\\"\",\"\\\"!\")\n",
    "    if \"?\" in text: text = text.replace(\"?\\\"\",\"\\\"?\")\n",
    "    if \"...\" in text: text = text.replace(\"...\",\"<prd><prd><prd>\")\n",
    "    text = text.replace(\".\",\".<stop>\")\n",
    "    text = text.replace(\"?\",\"?<stop>\")\n",
    "    text = text.replace(\"!\",\"!<stop>\")\n",
    "    text = text.replace(\"<prd>\",\".\")\n",
    "    sentences = text.split(\"<stop>\")\n",
    "    sentences = sentences[:-1]\n",
    "    sentences = [s.strip() for s in sentences]\n",
    "    return sentences"
   ]
  },
  {
   "cell_type": "code",
   "execution_count": 24,
   "metadata": {
    "ExecuteTime": {
     "end_time": "2018-04-20T00:32:36.948290Z",
     "start_time": "2018-04-20T00:32:36.943901Z"
    }
   },
   "outputs": [],
   "source": [
    "# \n",
    "# Parameters:\n",
    "# Description: to read a text file and split it up into sentences\n",
    "def process_file(fname):\n",
    "    \n",
    "    # Open text file\n",
    "    file_path = DIR_PATH + fname\n",
    "    file = open(file_path)\n",
    "    \n",
    "    # Open text file and connect all lines\n",
    "    content = \"\"\n",
    "    with open(DIR_PATH + fname, \"r+\") as file:\n",
    "        content = file.readlines()\n",
    "    \n",
    "    content = \"\".join(content)\n",
    "    \n",
    "    # Convert the text into sentences by splitting at common symbolic stops.\n",
    "    #sentence_stops = ['.','!','?',':']\n",
    "    #for stop in sentence_stops:\n",
    "        #content.split(stop)\n",
    "    #[sentences for sentences in map(str.strip, content.split('.')) if sentences]\n",
    "    #sentences = content\n",
    "    #print(sentences)\n",
    "    \n",
    "    sentences = map(str.strip, content.split('.')) \n",
    "    \n",
    "    # Use VADER to run sentiment analysis\n",
    "    analyzer = SentimentIntensityAnalyzer()\n",
    "    for sentence in sentences:\n",
    "        vs = analyzer.polarity_scores(sentence)\n",
    "        print(\"{:-<65} {}\".format(sentence, str(vs)))"
   ]
  },
  {
   "cell_type": "code",
   "execution_count": 26,
   "metadata": {},
   "outputs": [
    {
     "name": "stdout",
     "output_type": "stream",
     "text": [
      "Adaptations have long been a thorn in the side of anime viewers, but not because they are inherently bad {'neg': 0.218, 'compound': -0.6956, 'pos': 0.0, 'neu': 0.782}\n",
      "No, the main problem has been that many studios have regarded the original work almost as an afterthought, and there are a number of shows that could have been wonderful if the writers had simply stuck to the original story {'neg': 0.142, 'compound': 0.4019, 'pos': 0.198, 'neu': 0.66}\n",
      "One of the issues at hand seems to be ownership as producers, writers and directors all seem to want the work to be reflective of their style and perception, and in order to stamp their mark on a show they will makes numerous unnecessary changes or additions {'neg': 0.0, 'compound': 0.5423, 'pos': 0.093, 'neu': 0.907}\n",
      "Admittedly there are times when the adaptation supersedes the original work, but more often than not the result is at best a decent anime, and at worst utter twaddle {'neg': 0.148, 'compound': 0.2023, 'pos': 0.196, 'neu': 0.656}\n",
      "And then there's the other side of the coin, where the anime adaptation sticks to the storyline set out in the original work {'neg': 0.0, 'compound': 0.3182, 'pos': 0.095, 'neu': 0.905}\n",
      "Normally one would expect these to be superior works, but in a strange irony this is not always the case {'neg': 0.161, 'compound': -0.0644, 'pos': 0.103, 'neu': 0.736}\n",
      "The problem with these types of adaptations is that the original work may not have been very good, or even have a suitable narrative, to begin with, and turning them into anime only seems to exacerbate their inherent flaws {'neg': 0.063, 'compound': 0.4201, 'pos': 0.127, 'neu': 0.81}\n",
      "Fortunately, the Full Metal Alchemist franchise manages to steer clear almost all of these pitfalls {'neg': 0.0, 'compound': 0.3818, 'pos': 0.157, 'neu': 0.843}\n",
      "The problem is, there are no other anime that have so evenly split the viewing public's opinion between the two versions of the series {'neg': 0.182, 'compound': -0.5994, 'pos': 0.0, 'neu': 0.818}\n",
      "Unlike the 2003 adaptation, Brotherhood is a faithful representation of Arakawa Hiromu's hit manga, and while many fans of the franchise laud it as the best thing since sliced bread, there are a number who consider the original anime version to be the superior tale {'neg': 0.0, 'compound': 0.9217, 'pos': 0.272, 'neu': 0.728}\n",
      "But we'll get to that in a bit----------------------------------- {'neg': 0.0, 'compound': 0.0, 'pos': 0.0, 'neu': 1.0}\n",
      "Many people will already be familiar with the particulars of the story, and in a very real sense the common perception is well formed {'neg': 0.0, 'compound': 0.2732, 'pos': 0.087, 'neu': 0.913}\n",
      "Unfortunately, one of the problems with liking something too much is that one becomes blinded to its flaws, and while Brotherhood has very few noticeable ones where the narrative is concerned, this also serves to make them stand out {'neg': 0.116, 'compound': -0.34, 'pos': 0.062, 'neu': 0.822}\n",
      "The story is told in a very straight forward, no nonsense manner that is kind of refreshing given the penchant for filler episodes {'neg': 0.196, 'compound': -0.4535, 'pos': 0.083, 'neu': 0.721}\n",
      "The issue though, is that the content of the tale is much lighter in tone, much more typically \"shounen\" in its essence, than that of the first adaptation {'neg': 0.0, 'compound': 0.0, 'pos': 0.0, 'neu': 1.0}\n",
      "One of the reasons for this is because the undercurrent of obsession amongst the main characters peters out towards the end of the story - a stark contrast to the ending in the first adaptation {'neg': 0.07, 'compound': -0.34, 'pos': 0.0, 'neu': 0.93}\n",
      "Instead, these obsessive behaviours are effectively \"de-humanised\" by pushing them on to the non human characters {'neg': 0.101, 'compound': 0.25, 'pos': 0.154, 'neu': 0.745}\n",
      "There is a very clear sense that the plot is geared towards a more typical shounen standpoint and mentality, and while the whole still works very well as a story, one does have to wonder if the writers for the first adaptation didn't steal a march on Arakawa {'neg': 0.0, 'compound': 0.7854, 'pos': 0.162, 'neu': 0.838}\n",
      "It's possible that she had to change her idea of how the tale should develop because the first anime version took a much darker path than most other shounen franchises {'neg': 0.0, 'compound': 0.0, 'pos': 0.0, 'neu': 1.0}\n",
      "That said, the ending allows for a degree of catharsis that was missing from the first adaptation, and although there are some broad similarities between the two versions at times, in truth they are as different as chalk and cheese {'neg': 0.053, 'compound': 0.0258, 'pos': 0.055, 'neu': 0.892}\n",
      "As an added bonus this series is far less dependent on random comedic moments, and the difference this makes to the flow of the plot is palpable when the two versions are directly compared {'neg': 0.0, 'compound': 0.7351, 'pos': 0.162, 'neu': 0.838}\n",
      "One big advantage that Brotherhood has is that the seven year gap has allowed for improvements in various aspects of production, and it shows in a number of areas {'neg': 0.0, 'compound': 0.5574, 'pos': 0.183, 'neu': 0.817}\n",
      "The animation is more fluid than before, although admittedly the difference isn't really obvious at first and only really appears during large scale action set pieces {'neg': 0.0, 'compound': 0.0, 'pos': 0.0, 'neu': 1.0}\n",
      "The character designs will be very familiar to any fan, but are subtly sharper and more defined than in the previous series {'neg': 0.0, 'compound': 0.1655, 'pos': 0.073, 'neu': 0.927}\n",
      "Interestingly enough, one of the biggest plus points for Brotherhood is actually its wealth of interesting characters {'neg': 0.0, 'compound': 0.8225, 'pos': 0.381, 'neu': 0.619}\n",
      "As one would expect, a number of the characters from the first adaptation appear in Brotherhood, but there are also several who are notable for their absence as they do no appear in the manga {'neg': 0.078, 'compound': -0.3919, 'pos': 0.032, 'neu': 0.89}\n",
      "Instead, a horde of new characters appear throughout the course of the series, many of whom have their own goals, ideals and personalities {'neg': 0.0, 'compound': 0.2023, 'pos': 0.079, 'neu': 0.921}\n",
      "Indeed the biggest difference between the two versions is the sheer number of people who all seem to have some impact on the story {'neg': 0.0, 'compound': 0.0772, 'pos': 0.053, 'neu': 0.947}\n",
      "For much of the series Edward and Alphonse Elric behave in a manner that many who have watched the first adaptation will find familiar, and one of the nice things about this is that familiarity is used to very subtly develop the pair into very different characters {'neg': 0.0, 'compound': 0.4215, 'pos': 0.059, 'neu': 0.941}\n",
      "The change in their personas happens very gradually, but by the end of Brotherhood one can see just how much growth the pair has undergone {'neg': 0.0, 'compound': 0.5267, 'pos': 0.124, 'neu': 0.876}\n",
      "Strangely enough, the most interesting additions to the series are actually Yao Ling and Olivier Mira Armstrong (Alex Louis Armstrong's older sister - but without all the muscle flexing), two of the supporting roles {'neg': 0.043, 'compound': 0.6424, 'pos': 0.156, 'neu': 0.801}\n",
      "Yao Ling presents a strange dichotomy for the series to tackle, and while he doesn't develop as much as he possibly could have, this is offset by the moral and ethical dilemmas inherent in his situation towards the end of the series {'neg': 0.041, 'compound': 0.3612, 'pos': 0.075, 'neu': 0.884}\n",
      "On the other Olivier Armstrong possesses some of the strongest characterisation in the whole story, and while she is without doubt a major player at certain points of the show, what makes her interesting is the fact that the viewer is never quite sure of her goals {'neg': 0.041, 'compound': 0.7671, 'pos': 0.185, 'neu': 0.774}\n",
      "There are a number of very strong characterisations in the series, but one of the things that is a little strange is the difference between the two versions where the homunculi are concerned {'neg': 0.053, 'compound': 0.1744, 'pos': 0.104, 'neu': 0.843}\n",
      "Unlike the first adaptation the homunculi in Brotherhood have very different origins, even though they still deal with similar obsessions {'neg': 0.091, 'compound': -0.2263, 'pos': 0.0, 'neu': 0.909}\n",
      "This raises an interesting perspective on the series as a whole, and is one of the reasons why Brotherhood is far more of a shounen tale than the original adaptation {'neg': 0.0, 'compound': 0.6124, 'pos': 0.161, 'neu': 0.839}\n",
      "The plot takes on a subtly lighter tone, even though it may not seem that way, once their origins are understood, and the main reason for this is the \"de-humanisation\" I mentioned earlier {'neg': 0.0, 'compound': 0.0, 'pos': 0.0, 'neu': 1.0}\n",
      "The viewer is aware that these characters, though human-like in form, are not linked to humans in any way, and this awareness acts as a buffer so the viewer is less likely to question the actions and behaviour of the homunculi {'neg': 0.0, 'compound': 0.0, 'pos': 0.0, 'neu': 1.0}\n",
      "In essence one is subjected to the ethos that monsters are evil and do bad things, which raises some interesting issues where Kimblee, Greed and the military's generals are concerned {'neg': 0.27, 'compound': -0.836, 'pos': 0.069, 'neu': 0.662}\n",
      "The quality of the acting is possibly the main reason why Brotherhood is able to pull off its feat of developing not only the familiar characters, but also the new additions {'neg': 0.0, 'compound': 0.0, 'pos': 0.0, 'neu': 1.0}\n",
      "Paku Romi and Kugimiya Rie reprise their roles as Edward and Alphonse Elric, but with the exception of a few roles, the remaining cast are very different from the first outing {'neg': 0.0, 'compound': 0.0, 'pos': 0.0, 'neu': 1.0}\n",
      "Now normally one might consider this a recipe for disaster, but it's a testament to the quality of not only the actor's abilities, but also the scriptwriters, that this series easily stands shoulder to shoulder with the original {'neg': 0.059, 'compound': 0.7184, 'pos': 0.198, 'neu': 0.742}\n",
      "The music is very well composed and produced, and the series has a surprisingly large number of opening and ending themes, especially for 64 episode series {'neg': 0.0, 'compound': 0.5984, 'pos': 0.211, 'neu': 0.789}\n",
      "That said, fans of Brotherhood may find themselves in a bit of a quandary, especially if they prefer the OPs and EDs from the first series {'neg': 0.0, 'compound': 0.0, 'pos': 0.0, 'neu': 1.0}\n",
      "As for the sound effects, they are handled in a decidedly competent manner that makes one wonder why other shounen anime seem to have trouble in this department {'neg': 0.089, 'compound': -0.0276, 'pos': 0.086, 'neu': 0.825}\n",
      "Granted there are occasions when there's a bit of a cacophony, but in general the effects are clear, bold, and well choreographed {'neg': 0.0, 'compound': 0.8735, 'pos': 0.406, 'neu': 0.594}\n",
      "Now unlike most viewers, I actually consider Brotherhood to be equal to the first series, and I don't really fall on one side or another {'neg': 0.0, 'compound': 0.0, 'pos': 0.0, 'neu': 1.0}\n",
      "Like a number of fans my preference is for the much darker tone of the first series, however the cathartic ending of Brotherhood, as well as the improvements in production and animation, go some way to balancing the scales {'neg': 0.0, 'compound': 0.7351, 'pos': 0.194, 'neu': 0.806}\n",
      "Some people prefer the somewhat darker nature to Ed's character from the first adaptation, but in all honesty the rationale behind the two versions is very different, and while they're broadly the same character, that perception is only really valid until the last few episodes of either show {'neg': 0.0, 'compound': 0.6486, 'pos': 0.084, 'neu': 0.916}\n",
      "The same principle applies to Alphonse, Roy Mustang, in fact to most of the characters {'neg': 0.0, 'compound': 0.0, 'pos': 0.0, 'neu': 1.0}\n",
      "That said, Brotherhood is just as entertaining and involving as its predecessor, and it's a testament to Arakawa's skill as a mangaka that she has been able to produce a tale that, at the very least, rivals the original anime adaptation {'neg': 0.0, 'compound': 0.6369, 'pos': 0.126, 'neu': 0.874}\n",
      "Yes, Brotherhood is more typically shounen than the other version, but the nice thing about this is that fans are given two very good versions of the same story, and that is something rare in anime {'neg': 0.0, 'compound': 0.8702, 'pos': 0.23, 'neu': 0.77}\n",
      "Now if only all remakes, revisions or reboots could be this good- {'neg': 0.0, 'compound': 0.5228, 'pos': 0.235, 'neu': 0.765}\n",
      "----------------------------------------------------------------- {'neg': 0.0, 'compound': 0.0, 'pos': 0.0, 'neu': 0.0}\n"
     ]
    }
   ],
   "source": [
    "def main():\n",
    "    \n",
    "    #process_file(\"sample1.txt\")\n",
    "    process_file(\"sample2.txt\")\n",
    "    \n",
    "main()"
   ]
  },
  {
   "cell_type": "code",
   "execution_count": 50,
   "metadata": {
    "ExecuteTime": {
     "end_time": "2018-04-20T00:32:37.418719Z",
     "start_time": "2018-04-20T00:32:37.411524Z"
    }
   },
   "outputs": [
    {
     "data": {
      "text/plain": [
       "['sample1.txt', 'sample2.txt', 'sample3.txt']"
      ]
     },
     "execution_count": 50,
     "metadata": {},
     "output_type": "execute_result"
    }
   ],
   "source": [
    "# Below are the following files that will be tested.\n",
    "\n",
    "files = os.listdir(DIR_PATH) # see the files in the current directory\n",
    "files\n"
   ]
  },
  {
   "cell_type": "code",
   "execution_count": 51,
   "metadata": {
    "ExecuteTime": {
     "end_time": "2018-04-20T00:32:37.852052Z",
     "start_time": "2018-04-20T00:32:37.848750Z"
    }
   },
   "outputs": [],
   "source": [
    "# nltk.download('stopwords')\n",
    "# nltk.download('punky')"
   ]
  },
  {
   "cell_type": "code",
   "execution_count": 52,
   "metadata": {
    "ExecuteTime": {
     "end_time": "2018-04-20T00:32:38.559395Z",
     "start_time": "2018-04-20T00:32:38.553161Z"
    }
   },
   "outputs": [],
   "source": [
    "eng_stops = nltk.corpus.stopwords.words('english')\n",
    "symbolic_stops = ['.', ',', '!', '?', ';', ':', '[', ']']\n",
    "\n",
    "eng_stops += symbolic_stops\n",
    "\n",
    "# TODO: \n",
    "# Implement stop words reduction.\n"
   ]
  },
  {
   "cell_type": "code",
   "execution_count": 45,
   "metadata": {
    "ExecuteTime": {
     "end_time": "2018-04-19T23:13:31.879001Z",
     "start_time": "2018-04-19T23:13:31.876038Z"
    }
   },
   "outputs": [],
   "source": [
    "\n",
    "# sample_index = 0\n",
    "# file_chosen = files[sample_index]\n",
    "\n",
    "# words = process_file(file_chosen)\n",
    "\n",
    "# nltk.word_tokenize(words)\n",
    "\n",
    "\n",
    "# nltk.stem.snowball.SnowballStemmer(\"english\")\n",
    "\n",
    "\n"
   ]
  },
  {
   "cell_type": "code",
   "execution_count": 2,
   "metadata": {},
   "outputs": [],
   "source": [
    "\n"
   ]
  },
  {
   "cell_type": "code",
   "execution_count": 4,
   "metadata": {},
   "outputs": [
    {
     "name": "stdout",
     "output_type": "stream",
     "text": [
      "VADER is smart, handsome, and funny.----------------------------- {'pos': 0.746, 'compound': 0.8316, 'neu': 0.254, 'neg': 0.0}\n",
      "VADER is smart, handsome, and funny!----------------------------- {'pos': 0.752, 'compound': 0.8439, 'neu': 0.248, 'neg': 0.0}\n",
      "VADER is very smart, handsome, and funny.------------------------ {'pos': 0.701, 'compound': 0.8545, 'neu': 0.299, 'neg': 0.0}\n",
      "VADER is VERY SMART, handsome, and FUNNY.------------------------ {'pos': 0.754, 'compound': 0.9227, 'neu': 0.246, 'neg': 0.0}\n",
      "VADER is VERY SMART, handsome, and FUNNY!!!---------------------- {'pos': 0.767, 'compound': 0.9342, 'neu': 0.233, 'neg': 0.0}\n",
      "VADER is VERY SMART, uber handsome, and FRIGGIN FUNNY!!!--------- {'pos': 0.706, 'compound': 0.9469, 'neu': 0.294, 'neg': 0.0}\n",
      "VADER is not smart, handsome, nor funny.------------------------- {'pos': 0.0, 'compound': -0.7424, 'neu': 0.354, 'neg': 0.646}\n",
      "The book was good.----------------------------------------------- {'pos': 0.492, 'compound': 0.4404, 'neu': 0.508, 'neg': 0.0}\n",
      "At least it isn't a horrible book.------------------------------- {'pos': 0.363, 'compound': 0.431, 'neu': 0.637, 'neg': 0.0}\n",
      "The book was only kind of good.---------------------------------- {'pos': 0.303, 'compound': 0.3832, 'neu': 0.697, 'neg': 0.0}\n",
      "The plot was good, but the characters are uncompelling and the dialog is not great. {'pos': 0.094, 'compound': -0.7042, 'neu': 0.579, 'neg': 0.327}\n",
      "Today SUX!------------------------------------------------------- {'pos': 0.0, 'compound': -0.5461, 'neu': 0.221, 'neg': 0.779}\n",
      "Today only kinda sux! But I'll get by, lol----------------------- {'pos': 0.317, 'compound': 0.5249, 'neu': 0.556, 'neg': 0.127}\n",
      "Make sure you :) or :D today!------------------------------------ {'pos': 0.706, 'compound': 0.8633, 'neu': 0.294, 'neg': 0.0}\n",
      "Catch utf-8 emoji such as such as 💘 and 💋 and 😁------------------ {'pos': 0.254, 'compound': 0.7003, 'neu': 0.746, 'neg': 0.0}\n",
      "Not bad at all--------------------------------------------------- {'pos': 0.487, 'compound': 0.431, 'neu': 0.513, 'neg': 0.0}\n"
     ]
    }
   ],
   "source": [
    "sentences = [ \"VADER is smart, handsome, and funny.\",  # positive sentence example\n",
    "              \"VADER is smart, handsome, and funny!\",  # punctuation emphasis handled correctly (sentiment intensity adjusted)\n",
    "              \"VADER is very smart, handsome, and funny.\", # booster words handled correctly (sentiment intensity adjusted)\n",
    "              \"VADER is VERY SMART, handsome, and FUNNY.\",  # emphasis for ALLCAPS handled\n",
    "              \"VADER is VERY SMART, handsome, and FUNNY!!!\", # combination of signals - VADER appropriately adjusts intensity\n",
    "              \"VADER is VERY SMART, uber handsome, and FRIGGIN FUNNY!!!\", # booster words & punctuation make this close to ceiling for score\n",
    "              \"VADER is not smart, handsome, nor funny.\",  # negation sentence example\n",
    "              \"The book was good.\",  # positive sentence\n",
    "              \"At least it isn't a horrible book.\",  # negated negative sentence with contraction\n",
    "              \"The book was only kind of good.\", # qualified positive sentence is handled correctly (intensity adjusted)\n",
    "              \"The plot was good, but the characters are uncompelling and the dialog is not great.\", # mixed negation sentence\n",
    "              \"Today SUX!\",  # negative slang with capitalization emphasis\n",
    "              \"Today only kinda sux! But I'll get by, lol\", # mixed sentiment example with slang and constrastive conjunction \"but\"\n",
    "              \"Make sure you :) or :D today!\",  # emoticons handled\n",
    "              \"Catch utf-8 emoji such as such as 💘 and 💋 and 😁\",  # emojis handled\n",
    "              \"Not bad at all\"  # Capitalized negation\n",
    "            ]\n",
    "\n",
    "analyzer = SentimentIntensityAnalyzer()\n",
    "for sentence in sentences:\n",
    "    vs = analyzer.polarity_scores(sentence)\n",
    "    print(\"{:-<65} {}\".format(sentence, str(vs)))"
   ]
  }
 ],
 "metadata": {
  "kernelspec": {
   "display_name": "Python 3",
   "language": "python",
   "name": "python3"
  },
  "language_info": {
   "codemirror_mode": {
    "name": "ipython",
    "version": 3
   },
   "file_extension": ".py",
   "mimetype": "text/x-python",
   "name": "python",
   "nbconvert_exporter": "python",
   "pygments_lexer": "ipython3",
   "version": "3.5.2"
  }
 },
 "nbformat": 4,
 "nbformat_minor": 2
}
