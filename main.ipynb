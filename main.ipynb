{
 "cells": [
  {
   "cell_type": "code",
   "execution_count": 188,
   "metadata": {
    "ExecuteTime": {
     "end_time": "2018-04-20T00:32:35.001425Z",
     "start_time": "2018-04-20T00:32:34.998590Z"
    },
    "code_folding": []
   },
   "outputs": [],
   "source": [
    "# Constant variables definitions\n",
    "DIR_PATH = \"sample_texts/Fullmetal Alchemist: Brotherhood/\"\n",
    "NUM_FILES = 8"
   ]
  },
  {
   "cell_type": "code",
   "execution_count": 2,
   "metadata": {
    "ExecuteTime": {
     "end_time": "2018-04-20T00:32:35.603961Z",
     "start_time": "2018-04-20T00:32:35.599968Z"
    }
   },
   "outputs": [],
   "source": [
    "import os"
   ]
  },
  {
   "cell_type": "code",
   "execution_count": 3,
   "metadata": {
    "ExecuteTime": {
     "end_time": "2018-04-20T00:32:36.290289Z",
     "start_time": "2018-04-20T00:32:36.284989Z"
    }
   },
   "outputs": [],
   "source": [
    "import matplotlib.pyplot as plt\n",
    "import matplotlib.image as mpimg\n",
    "import numpy as np"
   ]
  },
  {
   "cell_type": "code",
   "execution_count": 4,
   "metadata": {},
   "outputs": [],
   "source": [
    "import nltk\n",
    "import nltk.data\n",
    "from vaderSentiment.vaderSentiment import SentimentIntensityAnalyzer"
   ]
  },
  {
   "cell_type": "code",
   "execution_count": 5,
   "metadata": {},
   "outputs": [],
   "source": [
    "import re"
   ]
  },
  {
   "cell_type": "code",
   "execution_count": 190,
   "metadata": {},
   "outputs": [],
   "source": [
    "from sklearn import svm"
   ]
  },
  {
   "cell_type": "code",
   "execution_count": 27,
   "metadata": {},
   "outputs": [],
   "source": [
    "# split_into_sentences()\n",
    "# Parameters: text - string of text\n",
    "# Description: Split text into sentences while properly retaining proper punctuation\n",
    "# (Note: This function was taken from StackOverflow (https://stackoverflow.com/questions/4576077/python-split-text-on-sentences)\n",
    "\n",
    "# Handle cases where periods are used but don't note the end of a sentence\n",
    "caps = \"([A-Z])\"\n",
    "prefixes = \"(Mr|St|Mrs|Ms|Dr|Prof|Capt|Cpt|Lt|Mt)[.]\"\n",
    "suffixes = \"(Inc|Ltd|Jr|Sr|Co)\"\n",
    "starters = \"(Mr|Mrs|Ms|Dr|He\\s|She\\s|It\\s|They\\s|Their\\s|Our\\s|We\\s|But\\s|However\\s|That\\s|This\\s|Wherever)\"\n",
    "acronyms = \"([A-Z][.][A-Z][.](?:[A-Z][.])?)\"\n",
    "websites = \"[.](com|net|org|io|gov)\"\n",
    "digits = \"([0-9])\"\n",
    "\n",
    "def split_into_sentences(text):\n",
    "    text = \" \" + text + \"  \"\n",
    "    text = text.replace(\"\\n\",\" \")\n",
    "    text = re.sub(prefixes,\"\\\\1<prd>\",text)\n",
    "    text = re.sub(websites,\"<prd>\\\\1\",text)\n",
    "    if \"Ph.D\" in text: text = text.replace(\"Ph.D.\",\"Ph<prd>D<prd>\")\n",
    "    text = re.sub(\"\\s\" + caps + \"[.] \",\" \\\\1<prd> \",text)\n",
    "    text = re.sub(acronyms+\" \"+starters,\"\\\\1<stop> \\\\2\",text)\n",
    "    text = re.sub(caps + \"[.]\" + caps + \"[.]\" + caps + \"[.]\",\"\\\\1<prd>\\\\2<prd>\\\\3<prd>\",text)\n",
    "    text = re.sub(caps + \"[.]\" + caps + \"[.]\",\"\\\\1<prd>\\\\2<prd>\",text)\n",
    "    text = re.sub(digits + \"[.]\" + digits,\"\\\\1<prd>\\\\2\",text)\n",
    "    text = re.sub(\" \"+suffixes+\"[.] \"+starters,\" \\\\1<stop> \\\\2\",text)\n",
    "    text = re.sub(\" \"+suffixes+\"[.]\",\" \\\\1<prd>\",text)\n",
    "    text = re.sub(\" \" + caps + \"[.]\",\" \\\\1<prd>\",text)\n",
    "    if \"”\" in text: text = text.replace(\".”\",\"”.\")\n",
    "    if \"\\\"\" in text: text = text.replace(\".\\\"\",\"\\\".\")\n",
    "    if \"!\" in text: text = text.replace(\"!\\\"\",\"\\\"!\")\n",
    "    if \"?\" in text: text = text.replace(\"?\\\"\",\"\\\"?\")\n",
    "    if \"...\" in text: text = text.replace(\"...\",\"<prd><prd><prd>\")\n",
    "    text = text.replace(\".\",\".<stop>\")\n",
    "    text = text.replace(\"?\",\"?<stop>\")\n",
    "    text = text.replace(\"!\",\"!<stop>\")\n",
    "    text = text.replace(\"<prd>\",\".\")\n",
    "    sentences = text.split(\"<stop>\")\n",
    "    sentences = sentences[:-1]\n",
    "    sentences = [s.strip() for s in sentences]\n",
    "    return sentences"
   ]
  },
  {
   "cell_type": "code",
   "execution_count": 138,
   "metadata": {
    "ExecuteTime": {
     "end_time": "2018-04-20T00:32:36.948290Z",
     "start_time": "2018-04-20T00:32:36.943901Z"
    }
   },
   "outputs": [],
   "source": [
    "# read_file()\n",
    "# Parameters: filename\n",
    "# Description: Read a text file and turn it into a long string\n",
    "def read_file(filename):\n",
    "    \n",
    "    # Open text file\n",
    "    file_path = DIR_PATH + filename\n",
    "    file = open(file_path)\n",
    "    \n",
    "    # Open text file and connect all lines\n",
    "    content = \"\"\n",
    "    with open(DIR_PATH + filename, \"r+\") as file:\n",
    "        content = file.readlines()\n",
    "    \n",
    "    content = \"\".join(content)\n",
    "    \n",
    "    return content"
   ]
  },
  {
   "cell_type": "code",
   "execution_count": 184,
   "metadata": {},
   "outputs": [],
   "source": [
    "# analyze_sentence_sentiment()\n",
    "# Parameters: filename\n",
    "# Description: Use VADER to conduct sentiment analysis on each sentence in the review, then return the aggregate score\n",
    "def analyze_sentence_sentiment(text):\n",
    "    \n",
    "    sentences = split_into_sentences(text)\n",
    "\n",
    "    # Use the example code from VADER to analyze the sentiment of each sentence\n",
    "    analyzer = SentimentIntensityAnalyzer()\n",
    "    all_scores = []\n",
    "    for sentence in sentences:\n",
    "        vs = analyzer.polarity_scores(sentence)\n",
    "        all_scores.append(vs)\n",
    "        #print(\"{:-<65} {}\".format(sentence, str(vs)))\n",
    "    \n",
    "    # Only grab the 'compound' score for each sentence and add it to a list\n",
    "    sentence_ratings = []\n",
    "    for scores_dict in all_scores:\n",
    "        for key in scores_dict:\n",
    "            if key == 'compound':\n",
    "                sentence_ratings.append(scores_dict.get(key))\n",
    "    \n",
    "    return sentence_ratings"
   ]
  },
  {
   "cell_type": "code",
   "execution_count": 197,
   "metadata": {},
   "outputs": [],
   "source": [
    "# rate_review()\n",
    "# Parameters: sentence_ratings - list of rating of each sentence in the review\n",
    "# Description: Use the ratings of each sentence, count the number of positive-, neutral-, and negative-rated sentences,\n",
    "#              and rate the \n",
    "def rate_review(sentence_ratings):\n",
    "\n",
    "    pos_count = 0\n",
    "    neg_count = 0\n",
    "    neu_count = 0\n",
    "    review_rating = \"\"\n",
    "    \n",
    "    # Count number of positive-, negative-, and neutral-rated sentences\n",
    "    for rating in sentence_ratings:\n",
    "        if round(rating,3) >= 0.25:\n",
    "            pos_count += 1\n",
    "        elif round(rating,3) <= -0.25:\n",
    "            neg_count += 1\n",
    "        else:\n",
    "            neu_count += 1\n",
    "    \n",
    "    if pos_count > neg_count and pos_count > neu_count:\n",
    "        review_rating = \"+\"\n",
    "    elif neg_count > pos_count and neg_count > neu_count:\n",
    "        review_rating = \"-\"\n",
    "    else:\n",
    "        review_rating = \"0\"\n",
    "    \n",
    "    return review_rating"
   ]
  },
  {
   "cell_type": "code",
   "execution_count": 199,
   "metadata": {
    "scrolled": true
   },
   "outputs": [
    {
     "name": "stdout",
     "output_type": "stream",
     "text": [
      "Overall rating of review1.txt: +\n",
      "Overall rating of review2.txt: +\n",
      "Overall rating of review3.txt: +\n",
      "Overall rating of review4.txt: +\n",
      "Overall rating of review5.txt: -\n",
      "Overall rating of review6.txt: +\n",
      "Overall rating of review7.txt: +\n",
      "Overall rating of review8.txt: +\n"
     ]
    }
   ],
   "source": [
    "def main():\n",
    "\n",
    "    filenames = []\n",
    "    for i in range(1, NUM_FILES+1):\n",
    "        filenames.append(\"review\" + str(i) + \".txt\")\n",
    "\n",
    "    review_scores = []\n",
    "    \n",
    "    for filename in filenames:\n",
    "        text = read_file(filename)\n",
    "        sentence_sentiment = analyze_sentence_sentiment(text)\n",
    "        review_rated = rate_review(sentence_sentiment)\n",
    "        review_scores.append(review_rated)\n",
    "        print(\"Overall rating of {}: {}\".format(filename, review_rated))\n",
    "\n",
    "    #print(review_scores)\n",
    "    \n",
    "main()"
   ]
  },
  {
   "cell_type": "code",
   "execution_count": 52,
   "metadata": {
    "ExecuteTime": {
     "end_time": "2018-04-20T00:32:38.559395Z",
     "start_time": "2018-04-20T00:32:38.553161Z"
    }
   },
   "outputs": [],
   "source": [
    "# nltk.download('stopwords')\n",
    "# nltk.download('punky')eng_stops = nltk.corpus.stopwords.words('english')\n",
    "symbolic_stops = ['.', ',', '!', '?', ';', ':', '[', ']']\n",
    "\n",
    "eng_stops += symbolic_stops\n",
    "\n",
    "# TODO: \n",
    "# Implement stop words reduction."
   ]
  },
  {
   "cell_type": "code",
   "execution_count": 45,
   "metadata": {
    "ExecuteTime": {
     "end_time": "2018-04-19T23:13:31.879001Z",
     "start_time": "2018-04-19T23:13:31.876038Z"
    }
   },
   "outputs": [],
   "source": [
    "# sample_index = 0\n",
    "# file_chosen = files[sample_index]\n",
    "\n",
    "# words = process_file(file_chosen)\n",
    "# nltk.word_tokenize(words)\n",
    "# nltk.stem.snowball.SnowballStemmer(\"english\")"
   ]
  }
 ],
 "metadata": {
  "kernelspec": {
   "display_name": "Python 3",
   "language": "python",
   "name": "python3"
  },
  "language_info": {
   "codemirror_mode": {
    "name": "ipython",
    "version": 3
   },
   "file_extension": ".py",
   "mimetype": "text/x-python",
   "name": "python",
   "nbconvert_exporter": "python",
   "pygments_lexer": "ipython3",
   "version": "3.5.2"
  }
 },
 "nbformat": 4,
 "nbformat_minor": 2
}
