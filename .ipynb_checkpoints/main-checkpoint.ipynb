{
 "cells": [
  {
   "cell_type": "code",
   "execution_count": 46,
   "metadata": {
    "ExecuteTime": {
     "end_time": "2018-04-20T00:32:35.001425Z",
     "start_time": "2018-04-20T00:32:34.998590Z"
    },
    "code_folding": []
   },
   "outputs": [],
   "source": [
    "# Constant variables definitions\n",
    "DIR_PATH = \"sample_texts/\"\n"
   ]
  },
  {
   "cell_type": "code",
   "execution_count": 47,
   "metadata": {
    "ExecuteTime": {
     "end_time": "2018-04-20T00:32:35.603961Z",
     "start_time": "2018-04-20T00:32:35.599968Z"
    }
   },
   "outputs": [],
   "source": [
    "import os"
   ]
  },
  {
   "cell_type": "code",
   "execution_count": 48,
   "metadata": {
    "ExecuteTime": {
     "end_time": "2018-04-20T00:32:36.290289Z",
     "start_time": "2018-04-20T00:32:36.284989Z"
    }
   },
   "outputs": [],
   "source": [
    "import matplotlib.pyplot as plt\n",
    "import matplotlib.image as mpimg\n",
    "import numpy as np\n",
    "\n",
    "import nltk"
   ]
  },
  {
   "cell_type": "code",
   "execution_count": 49,
   "metadata": {
    "ExecuteTime": {
     "end_time": "2018-04-20T00:32:36.948290Z",
     "start_time": "2018-04-20T00:32:36.943901Z"
    }
   },
   "outputs": [],
   "source": [
    "# this is reads file\n",
    "def process_file(fname):\n",
    "    file_path = DIR_PATH + fname\n",
    "    print(file_path)\n",
    "    \n",
    "    content = \"\"\n",
    "\n",
    "    with open(file_path, 'r') as f:\n",
    "\n",
    "        content = f.readlines()\n",
    "        \n",
    "    content = \"\".join(content)\n",
    "    return content\n"
   ]
  },
  {
   "cell_type": "code",
   "execution_count": 50,
   "metadata": {
    "ExecuteTime": {
     "end_time": "2018-04-20T00:32:37.418719Z",
     "start_time": "2018-04-20T00:32:37.411524Z"
    }
   },
   "outputs": [
    {
     "data": {
      "text/plain": [
       "['sample1.txt', 'sample2.txt', 'sample3.txt']"
      ]
     },
     "execution_count": 50,
     "metadata": {},
     "output_type": "execute_result"
    }
   ],
   "source": [
    "# Below are the following files that will be tested.\n",
    "\n",
    "files = os.listdir(DIR_PATH) # see the files in the current directory\n",
    "files\n"
   ]
  },
  {
   "cell_type": "code",
   "execution_count": 51,
   "metadata": {
    "ExecuteTime": {
     "end_time": "2018-04-20T00:32:37.852052Z",
     "start_time": "2018-04-20T00:32:37.848750Z"
    }
   },
   "outputs": [],
   "source": [
    "# nltk.download('stopwords')\n",
    "# nltk.download('punky')"
   ]
  },
  {
   "cell_type": "code",
   "execution_count": 52,
   "metadata": {
    "ExecuteTime": {
     "end_time": "2018-04-20T00:32:38.559395Z",
     "start_time": "2018-04-20T00:32:38.553161Z"
    }
   },
   "outputs": [],
   "source": [
    "eng_stops = nltk.corpus.stopwords.words('english')\n",
    "symbolic_stops = ['.', ',', '!', '?', ';', ':', '[', ']']\n",
    "\n",
    "eng_stops += symbolic_stops\n",
    "\n",
    "# TODO: \n",
    "# Implement stop words reduction.\n"
   ]
  },
  {
   "cell_type": "code",
   "execution_count": 45,
   "metadata": {
    "ExecuteTime": {
     "end_time": "2018-04-19T23:13:31.879001Z",
     "start_time": "2018-04-19T23:13:31.876038Z"
    }
   },
   "outputs": [],
   "source": [
    "\n",
    "# sample_index = 0\n",
    "# file_chosen = files[sample_index]\n",
    "\n",
    "# words = process_file(file_chosen)\n",
    "\n",
    "# nltk.word_tokenize(words)\n",
    "\n",
    "\n",
    "# nltk.stem.snowball.SnowballStemmer(\"english\")"
   ]
  }
 ],
 "metadata": {
  "kernelspec": {
   "display_name": "Python 3",
   "language": "python",
   "name": "python3"
  },
  "language_info": {
   "codemirror_mode": {
    "name": "ipython",
    "version": 3
   },
   "file_extension": ".py",
   "mimetype": "text/x-python",
   "name": "python",
   "nbconvert_exporter": "python",
   "pygments_lexer": "ipython3",
   "version": "3.6.5"
  }
 },
 "nbformat": 4,
 "nbformat_minor": 2
}
